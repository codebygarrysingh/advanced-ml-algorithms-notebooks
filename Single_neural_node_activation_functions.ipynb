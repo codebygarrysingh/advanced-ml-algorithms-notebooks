{
 "cells":[
  {
   "cell_type":"markdown",
   "source":[
    "**In this notebook we will cover Neurons and layers of an artificial neural modal** "
   ],
   "attachments":{
    
   },
   "metadata":{
    "datalore":{
     "node_id":"zKsYkSwScMHNXwO4VwQ3Sq",
     "type":"MD",
     "hide_input_from_viewers":true,
     "hide_output_from_viewers":true
    }
   }
  },
  {
   "cell_type":"code",
   "source":[
    "# let's start by importing the libraries\n",
    "import numpy as np\n",
    "import matplotlib.pyplot as plt\n",
    "import tensorflow as tf\n",
    "from tensorflow.keras.layers import Dense, Input\n",
    "from tensorflow.keras.losses import MeanSquaredError, BinaryCrossentropy\n",
    "from tensorflow.keras.activations import sigmoid\n",
    "from tensorflow.keras import Sequential\n",
    "\n",
    "import logging"
   ],
   "execution_count":39,
   "outputs":[
    
   ],
   "metadata":{
    "datalore":{
     "node_id":"1k7ZBl4twx8IdP0CbOTj5A",
     "type":"CODE",
     "hide_input_from_viewers":true,
     "hide_output_from_viewers":true
    }
   }
  },
  {
   "cell_type":"code",
   "source":[
    "# Let's taking housing pricing example\n",
    "\n",
    "X_train = np.array([[1.0], [2.0]], dtype=np.float32)           #(size in 1000 square feet)\n",
    "Y_train = np.array([[300.0], [500.0]], dtype=np.float32)       #(price in 1000s of dollars)\n",
    "\n",
    "fig, ax = plt.subplots(1,1)\n",
    "ax.scatter(X_train, Y_train, marker='x', c='r', label=\"Data Points\")\n",
    "ax.legend( fontsize='xx-large')\n",
    "ax.set_ylabel('Price (in 1000s of dollars)', fontsize='xx-large')\n",
    "ax.set_xlabel('Size (1000 sqft)', fontsize='xx-large')\n",
    "plt.show()"
   ],
   "execution_count":6,
   "outputs":[
    {
     "data":{
      "image\/png":"[encoded data removed]"
     },
     "metadata":{
      "image\/png":{
       
      }
     },
     "output_type":"display_data"
    }
   ],
   "metadata":{
    "datalore":{
     "node_id":"gGxaFDld5IcdTpJ6XSbIvB",
     "type":"CODE",
     "hide_input_from_viewers":true,
     "hide_output_from_viewers":true
    }
   }
  },
  {
   "cell_type":"code",
   "source":[
    "# Let's working with an example of neurons without activation\n",
    "\n",
    "# Function implemented by a neuron with no activation function is same as that of a standard linear function f = w.x + b\n",
    "\n",
    "# now let's define a single layer with a single neuron\n",
    "\n",
    "linear_layer = tf.keras.layers.Dense(units=1, activation= 'linear')\n",
    "\n",
    "# now let's try the model on our example of housing price data\n",
    "\n",
    "layer_output = linear_layer(X_train)\n",
    "\n",
    "print(f\"Weight allocated is: {linear_layer.get_weights()[0]}\")\n",
    "print(f\"Bias allocated is: {linear_layer.get_weights()[1]}\")\n",
    "\n",
    "print(f\"Layer output is: {layer_output}\")\n",
    "\n",
    "# Note here that weight and bias are allocated randomly at initiation bias is always set to 0 whereas weights are set to small value"
   ],
   "execution_count":7,
   "outputs":[
    {
     "name":"stdout",
     "text":[
      "Weight allocated is: [[-0.48951006]]\n",
      "Bias allocated is: [0.]\n",
      "Layer output is: [[-0.48951006]\n",
      " [-0.9790201 ]]\n"
     ],
     "output_type":"stream"
    }
   ],
   "metadata":{
    "datalore":{
     "node_id":"7bAa17dwcnGYWBOVJ8IO1i",
     "type":"CODE",
     "hide_input_from_viewers":true,
     "hide_output_from_viewers":true
    }
   }
  },
  {
   "cell_type":"code",
   "source":[
    "# now let's set the weight and bias to train the model on specific values\n",
    "\n",
    "set_w = np.array([[200]])\n",
    "set_b = np.array([100])\n",
    "\n",
    "# set_weights takes a list of numpy arrays\n",
    "linear_layer.set_weights([set_w,set_b])\n",
    "\n",
    "print(f\"Weight allocated is: {linear_layer.get_weights()[0]}\")\n",
    "print(f\"Bias allocated is: {linear_layer.get_weights()[1]}\")"
   ],
   "execution_count":12,
   "outputs":[
    {
     "name":"stdout",
     "text":[
      "Weight allocated is: [[200.]]\n",
      "Bias allocated is: [100.]\n"
     ],
     "output_type":"stream"
    }
   ],
   "metadata":{
    "datalore":{
     "node_id":"03tg6jP983IqmzgwkyM3at",
     "type":"CODE",
     "hide_input_from_viewers":true,
     "hide_output_from_viewers":true
    }
   }
  },
  {
   "cell_type":"code",
   "source":[
    "# now let's compute our model output from the new parameters\n",
    "layer_output = linear_layer(X_train)\n",
    "print(f\"Tensor flow linear layer with single node on trained housing data produced: {layer_output}\")"
   ],
   "execution_count":13,
   "outputs":[
    {
     "name":"stdout",
     "text":[
      "Tensor flow linear layer with single node on trained housing data produced: [[300.]\n",
      " [500.]]\n"
     ],
     "output_type":"stream"
    }
   ],
   "metadata":{
    "datalore":{
     "node_id":"y17P5bIrh47joRv967bZb4",
     "type":"CODE",
     "hide_input_from_viewers":true,
     "hide_output_from_viewers":true
    }
   }
  },
  {
   "cell_type":"code",
   "source":[
    "# now let's compare the output above from the linear function we saw earlier f = w.x + b\n",
    "\n",
    "linear_fn_output = np.dot(X_train[0], set_w[0]) + set_b\n",
    "\n",
    "print(f\"Linear function with single input feature on trained housing data produced: {linear_fn_output}\")"
   ],
   "execution_count":14,
   "outputs":[
    {
     "name":"stdout",
     "text":[
      "Linear function with single input feature on trained housing data produced: [300.]\n"
     ],
     "output_type":"stream"
    }
   ],
   "metadata":{
    "datalore":{
     "node_id":"CId48VCOjKawQHyfdKR2aU",
     "type":"CODE",
     "hide_input_from_viewers":true,
     "hide_output_from_viewers":true
    }
   }
  },
  {
   "cell_type":"code",
   "source":[
    "# now let's look at implementation of the activation function that follows sigmoid function principals\n",
    "\n",
    "# let's define sample data for classification model training\n",
    "\n",
    "X_train = np.array([0., 1, 2, 3, 4, 5], dtype=np.float32).reshape(-1,1)  # 2-D Matrix\n",
    "Y_train = np.array([0,  0, 0, 1, 1, 1], dtype=np.float32).reshape(-1,1)  # 2-D Matrix\n",
    "\n",
    "# now let's create an array of all positive and negative indexes from our output trained data\n",
    "\n",
    "pos = Y_train == 1\n",
    "neg = Y_train == 0\n",
    "#print(f\"Index of positive results are: {pos}\")\n",
    "#print(f\"Index of negative results are: {neg}\")\n",
    "# this fetches all the values where boolean mask created previously is true from y_train\n",
    "X_train[pos]"
   ],
   "execution_count":15,
   "outputs":[
    {
     "data":{
      "text\/html":[
       "<pre>array([3., 4., 5.], dtype=float32)<\/pre>"
      ]
     },
     "metadata":{
      
     },
     "output_type":"display_data"
    }
   ],
   "metadata":{
    "datalore":{
     "node_id":"TANDvSoWOsofVZE1pb6oz4",
     "type":"CODE",
     "hide_input_from_viewers":true,
     "hide_output_from_viewers":true
    }
   }
  },
  {
   "cell_type":"code",
   "source":[
    "# now let's plot these examples\n",
    "\n",
    "pos = Y_train == 1\n",
    "neg = Y_train == 0\n",
    "\n",
    "fig,ax = plt.subplots(1,1,figsize=(4,3))\n",
    "ax.scatter(X_train[pos], Y_train[pos], marker='x', s=80, c = 'red', label=\"y=1\")\n",
    "ax.scatter(X_train[neg], Y_train[neg], marker='o', s=100, label=\"y=0\", lw=3)\n",
    "\n",
    "ax.set_ylim(-0.08,1.1)\n",
    "ax.set_ylabel('y', fontsize=12)\n",
    "ax.set_xlabel('x', fontsize=12)\n",
    "ax.set_title('one variable plot')\n",
    "ax.legend(fontsize=12)\n",
    "plt.show()"
   ],
   "execution_count":16,
   "outputs":[
    {
     "data":{
      "image\/png":"[encoded data removed]"
     },
     "metadata":{
      "image\/png":{
       
      }
     },
     "output_type":"display_data"
    }
   ],
   "metadata":{
    "datalore":{
     "node_id":"oxkcSuaq9bBJM4f1ZjGASn",
     "type":"CODE",
     "hide_input_from_viewers":true,
     "hide_output_from_viewers":true
    }
   }
  },
  {
   "cell_type":"code",
   "source":[
    "# let's create a single neuron activation model using tensorflow\n",
    "\n",
    "model = Sequential(\n",
    "    [tf.keras.layers.Dense(1, input_dim=1, activation = 'sigmoid', name='L1')]\n",
    ")\n",
    "\n",
    "model.summary()"
   ],
   "execution_count":17,
   "outputs":[
    {
     "name":"stdout",
     "text":[
      "Model: \"sequential\"\n",
      "_________________________________________________________________\n",
      " Layer (type)                Output Shape              Param #   \n",
      "=================================================================\n",
      " L1 (Dense)                  (None, 1)                 2         \n",
      "                                                                 \n",
      "=================================================================\n",
      "Total params: 2\n",
      "Trainable params: 2\n",
      "Non-trainable params: 0\n",
      "_________________________________________________________________\n"
     ],
     "output_type":"stream"
    }
   ],
   "metadata":{
    "datalore":{
     "node_id":"3hAQGcFtGpaSgGz6zzjjrD",
     "type":"CODE",
     "hide_input_from_viewers":true,
     "hide_output_from_viewers":true
    }
   }
  },
  {
   "cell_type":"code",
   "source":[
    "# let's look at the parameters of the logistic layer defined previously\n",
    "\n",
    "logistic_layer = model.get_layer(\"L1\")\n",
    "w,b = logistic_layer.get_weights()\n",
    "\n",
    "print(f\"Weight allocated is: {w}\")\n",
    "print(f\"Bias allocated is: {b}\")"
   ],
   "execution_count":18,
   "outputs":[
    {
     "name":"stdout",
     "text":[
      "Weight allocated is: [[1.5941397]]\n",
      "Bias allocated is: [0.]\n"
     ],
     "output_type":"stream"
    }
   ],
   "metadata":{
    "datalore":{
     "node_id":"xqw536ytuaBZfGmoLQyx55",
     "type":"CODE",
     "hide_input_from_viewers":true,
     "hide_output_from_viewers":true
    }
   }
  },
  {
   "cell_type":"code",
   "source":[
    "# now let's set weights to specific model weights for testing our training data\n",
    "\n",
    "set_w = np.array([[2]])\n",
    "set_b = np.array([-4.5])\n",
    "\n",
    "# set_weights takes a list of numpy arrays\n",
    "logistic_layer.set_weights([set_w, set_b])\n",
    "print(logistic_layer.get_weights())"
   ],
   "execution_count":19,
   "outputs":[
    {
     "name":"stdout",
     "text":[
      "[array([[2.]], dtype=float32), array([-4.5], dtype=float32)]\n"
     ],
     "output_type":"stream"
    }
   ],
   "metadata":{
    "datalore":{
     "node_id":"pKMgGj8RP0MeGdZ5mjSV2N",
     "type":"CODE",
     "hide_input_from_viewers":true,
     "hide_output_from_viewers":true
    }
   }
  },
  {
   "cell_type":"code",
   "source":[
    "# now let's find the prediction using tensorflow and our previously learned sigmoid function\n",
    "\n",
    "# Set weights for the model\n",
    "model.layers[0].set_weights([set_w, set_b])\n",
    "\n",
    "model_output = model.predict(X_train)\n",
    "\n",
    "print(f\"Model output from tensorflow single layer sigmoid activation: {model_output}\")\n",
    "\n",
    "z = np.dot(X_train,set_w) + set_b\n",
    "sigmoid_fn_output = 1\/(1 + np.exp(-z))\n",
    "\n",
    "print(f\"Model output from sigmoid function is : {sigmoid_fn_output}\")"
   ],
   "execution_count":38,
   "outputs":[
    {
     "name":"stdout",
     "text":[
      "\r1\/1 [==============================] - ETA: 0s\b\b\b\b\b\b\b\b\b\b\b\b\b\b\b\b\b\b\b\b\b\b\b\b\b\b\b\b\b\b\b\b\b\b\b\b\b\b\b\b\b\b\b\b\b\b\r1\/1 [==============================] - 0s 23ms\/step\n",
      "Model output from tensorflow single layer sigmoid activation: [[0.01098694]\n",
      " [0.07585818]\n",
      " [0.37754068]\n",
      " [0.8175745 ]\n",
      " [0.97068775]\n",
      " [0.99592984]]\n",
      "Model output from sigmoid function is : [[0.01098694]\n",
      " [0.07585818]\n",
      " [0.37754067]\n",
      " [0.81757448]\n",
      " [0.97068777]\n",
      " [0.99592986]]\n"
     ],
     "output_type":"stream"
    }
   ],
   "metadata":{
    "datalore":{
     "node_id":"zokggdQAFZjsC6H9LTqiTp",
     "type":"CODE",
     "hide_input_from_viewers":true,
     "hide_output_from_viewers":true
    }
   }
  },
  {
   "cell_type":"code",
   "source":[
    
   ],
   "execution_count":null,
   "outputs":[
    
   ],
   "metadata":{
    "datalore":{
     "node_id":"We4ZNbl8dEu1NbSf5rnSk3",
     "type":"CODE",
     "hide_input_from_viewers":true,
     "hide_output_from_viewers":true
    }
   }
  }
 ],
 "metadata":{
  "kernelspec":{
   "display_name":"Python",
   "language":"python",
   "name":"python"
  },
  "datalore":{
   "computation_mode":"JUPYTER",
   "package_manager":"pip",
   "base_environment":"default",
   "packages":[
    
   ],
   "report_row_ids":[
    
   ],
   "version":3
  }
 },
 "nbformat":4,
 "nbformat_minor":4
}